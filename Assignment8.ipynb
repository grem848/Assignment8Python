{
 "cells": [
  {
   "cell_type": "markdown",
   "metadata": {},
   "source": [
    "# Exercise 2 - Good Awareness\n",
    "\n",
    "### URI: https://www.kaggle.com/spscientist/students-performance-in-exams/version/1\n",
    "\n",
    "https://github.com/Kaggle/kaggle-api to download kaggle dataset programmatically (not a good idea to do this over mybinder, as you need to send your login credentials)\n",
    "\n",
    "### Question 1:\n",
    "Download the data programatically with python. \n",
    "\n",
    "(Dont do this on mybinder! It won't work because mybinder doesnt have the api)\n",
    "\n",
    "Windows:\n",
    "1. pip install kaggle\n",
    "2. log in on kaggle\n",
    "3. click on your profile (top right) then my account\n",
    "4. scroll down to API, click Create New API Token (this downloads the kaggle.json file with your login credentials)\n",
    "5. move the kaggle.json file to the root of C:\\Users\\Windows-username\\.kaggle\\\n",
    "6. .kaggle should now look like this: C:\\Users\\Windows-username\\.kaggle\\kaggle.json\n",
    "7. run commands below\n",
    "\n",
    "Mac:\n",
    "https://github.com/Kaggle/kaggle-api DO IT YOURSELF!"
   ]
  },
  {
   "cell_type": "code",
   "execution_count": 14,
   "metadata": {},
   "outputs": [
    {
     "name": "stdout",
     "output_type": "stream",
     "text": [
      "students-performance-in-exams.zip: Skipping, found more recently modified local copy (use --force to force download)\n"
     ]
    }
   ],
   "source": [
    "!kaggle datasets download -d spscientist/students-performance-in-exams"
   ]
  },
  {
   "cell_type": "code",
   "execution_count": 22,
   "metadata": {},
   "outputs": [],
   "source": [
    "import shutil\n",
    "import zipfile\n",
    "with zipfile.ZipFile(\"students-performance-in-exams.zip\",\"r\") as zip_ref:\n",
    "    zip_ref.extractall()"
   ]
  },
  {
   "cell_type": "markdown",
   "metadata": {},
   "source": [
    "### Question 2:\n",
    "Fit the data for the different scores in math, writing and reading into a model. present it visually and explain what you see."
   ]
  },
  {
   "cell_type": "code",
   "execution_count": 197,
   "metadata": {},
   "outputs": [
    {
     "data": {
      "image/png": "[encoded data removed]",
      "text/plain": [
       "<Figure size 864x432 with 1 Axes>"
      ]
     },
     "metadata": {
      "needs_background": "light"
     },
     "output_type": "display_data"
    }
   ],
   "source": [
    "import pandas as pd\n",
    "import matplotlib.pyplot as plt\n",
    "import numpy as np\n",
    "\n",
    "filename = \"StudentsPerformance.csv\"\n",
    "\n",
    "# reads file incl. headers from line 0\n",
    "data = pd.read_csv(filename, header=0)\n",
    "\n",
    "\n",
    "#print(df.headers)\n",
    "\n",
    "data.drop([0,1])\n",
    "\n",
    "# print(data.values)\n",
    "\n",
    "#mathscores = data.iloc[:, 5]\n",
    "#print(mathscores)\n",
    "\n",
    "high_school_math = data[data['parental level of education']=='high school'][\"math score\"].values\n",
    "high_school_reading = data[data['parental level of education']=='high school'][\"reading score\"].values\n",
    "high_school_writing = data[data['parental level of education']=='high school'][\"writing score\"].values\n",
    "\n",
    "some_College_math = data[data['parental level of education']=='some college'][\"math score\"].values\n",
    "some_College_reading = data[data['parental level of education']=='some college'][\"reading score\"].values\n",
    "some_College_writing = data[data['parental level of education']=='some college'][\"writing score\"].values\n",
    "\n",
    "bachelor_degree_math = data[data['parental level of education']==\"bachelor's degree\"][\"math score\"].values\n",
    "bachelor_degree_reading = data[data['parental level of education']==\"bachelor's degree\"][\"reading score\"].values\n",
    "bachelor_degree_writing = data[data['parental level of education']==\"bachelor's degree\"][\"writing score\"].values\n",
    "\n",
    "\n",
    "mydict = {'math' : [high_school_math.mean(), some_College_math.mean(), bachelor_degree_math.mean()],\n",
    "     'reading' : [high_school_reading.mean(), some_College_reading.mean(), bachelor_degree_reading.mean()],\n",
    "     'writing' : [high_school_writing.mean(), some_College_writing.mean(), bachelor_degree_writing.mean()]}\n",
    "\n",
    "df = pd.DataFrame(mydict, index=['Some college degree', 'high school degree', \"some bachelor's degree\"],\n",
    "                        columns=['math','reading', 'writing'])\n",
    "\n",
    "# print(df)\n",
    "df.plot(kind='bar', width=0.5, align='center', fontsize=12,figsize=(12, 6))\n",
    "title = \"Math, reading & writing scores for kids, divided by parent's education level\"\n",
    "plt.title(title, fontsize=20)\n",
    "plt.show()"
   ]
  },
  {
   "cell_type": "markdown",
   "metadata": {},
   "source": [
    "The figure above shows kids/people's math, reading and writing scores, divided into groups based on their parent's educational level. This figure shows that parent education level affects their children's performance and skills."
   ]
  },
  {
   "cell_type": "markdown",
   "metadata": {},
   "source": [
    "### Question 3:\n",
    "Predict the next semesters scores."
   ]
  },
  {
   "cell_type": "code",
   "execution_count": 249,
   "metadata": {},
   "outputs": [
    {
     "name": "stdout",
     "output_type": "stream",
     "text": [
      "LinearRegression(copy_X=True, fit_intercept=True, n_jobs=None,\n",
      "         normalize=False)\n",
      "[[0. 0. 0. ... 0. 0. 0.]\n",
      " [0. 0. 0. ... 0. 0. 0.]\n",
      " [0. 0. 0. ... 0. 0. 0.]\n",
      " [0. 0. 0. ... 0. 0. 0.]\n",
      " [0. 0. 0. ... 0. 0. 0.]\n",
      " [0. 0. 0. ... 0. 0. 0.]]\n",
      "[1. 2. 3. 4. 5. 6.]\n",
      "[[1. 2. 3. 4. 5. 6.]]\n"
     ]
    }
   ],
   "source": [
    "# doesnt work\n",
    "\n",
    "import sklearn\n",
    "import sklearn.linear_model\n",
    "import pandas as pd\n",
    "\n",
    "# sklearn.linear_model.LinearRegression?\n",
    "\n",
    "# arr = data['parental level of education'].unique()\n",
    "# dict2 = dict(enumerate(arr.flatten(), 1))\n",
    "# print(dict2)\n",
    "\n",
    "data2 = pd.DataFrame({\n",
    "    \"bachelor's degree\": 1,\n",
    "    'some college': 2,\n",
    "    \"master's degree\" : 3,\n",
    "    \"associate's degree\" : 4,\n",
    "    'high school' : 5,\n",
    "    'some high school' : 6}, index=[0])\n",
    "\n",
    "dummies = pd.get_dummies(data2)\n",
    "\n",
    "xs = np.array([data['math score'], data['reading score'], data['writing score']])\n",
    "ys = dummies\n",
    "\n",
    "xs_reshape = np.array(xs).reshape(1, -1)\n",
    "\n",
    "model = sklearn.linear_model.LinearRegression()\n",
    "print(model.fit(xs_reshape, ys))\n",
    "\n",
    "print(model.coef_)\n",
    "\n",
    "print(model.intercept_)\n",
    "\n",
    "print(model.predict(xs_reshape))"
   ]
  }
 ],
 "metadata": {
  "kernelspec": {
   "display_name": "Python 3",
   "language": "python",
   "name": "python3"
  },
  "language_info": {
   "codemirror_mode": {
    "name": "ipython",
    "version": 3
   },
   "file_extension": ".py",
   "mimetype": "text/x-python",
   "name": "python",
   "nbconvert_exporter": "python",
   "pygments_lexer": "ipython3",
   "version": "3.7.1"
  }
 },
 "nbformat": 4,
 "nbformat_minor": 2
}
