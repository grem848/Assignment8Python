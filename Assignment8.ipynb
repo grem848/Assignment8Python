{
 "cells": [
  {
   "cell_type": "markdown",
   "metadata": {},
   "source": [
    "# Exercise 2 - Good Awareness\n",
    "\n",
    "### URI: https://www.kaggle.com/spscientist/students-performance-in-exams/version/1\n",
    "\n",
    "https://github.com/Kaggle/kaggle-api to download kaggle dataset programmatically (not a good idea to do this over mybinder, as you need to send your login credentials)\n",
    "\n",
    "### Question 1:\n",
    "Download the data programatically with python. \n",
    "\n",
    "(Dont do this on mybinder! We skipped this part as it's not safe with mybinder, otherwise it's just using a download like we have so many times before)"
   ]
  },
  {
   "cell_type": "code",
   "execution_count": null,
   "metadata": {},
   "outputs": [],
   "source": [
    "# Downloading file\n",
    "import os\n",
    "import urllib.request as req\n",
    "from urllib.parse import urlparse\n",
    "import sys\n",
    "\n",
    "def download(urls):\n",
    "    for url in urls:\n",
    "        urlstring = urlparse(url)\n",
    "        urlsplit = urlstring.path.split(\"/\")\n",
    "        to = urlsplit[-1]\n",
    "        req.urlretrieve(url, to)\n",
    "        print(\"Downloading file to ./\", to, sep=\"\")\n",
    "\n",
    "download([\"https://snap.stanford.edu/data/facebook_combined.txt.gz\"])\n",
    "\n",
    "\n",
    "# import kaggle\n",
    "\n",
    "# kaggle.api.authenticate()\n",
    "\n",
    "# kaggle.api.dataset_download_files('The_name_of_the_dataset', path='the_path_you_want_to_download_the_files_to', unzip=True)"
   ]
  },
  {
   "cell_type": "markdown",
   "metadata": {},
   "source": [
    "### Question 2:\n",
    "Fit the data for the different scores in math, writing and reading into a model. present it visually and explain what you see."
   ]
  },
  {
   "cell_type": "code",
   "execution_count": null,
   "metadata": {},
   "outputs": [],
   "source": []
  },
  {
   "cell_type": "code",
   "execution_count": null,
   "metadata": {},
   "outputs": [],
   "source": []
  }
 ],
 "metadata": {
  "kernelspec": {
   "display_name": "Python 3",
   "language": "python",
   "name": "python3"
  },
  "language_info": {
   "codemirror_mode": {
    "name": "ipython",
    "version": 3
   },
   "file_extension": ".py",
   "mimetype": "text/x-python",
   "name": "python",
   "nbconvert_exporter": "python",
   "pygments_lexer": "ipython3",
   "version": "3.7.1"
  }
 },
 "nbformat": 4,
 "nbformat_minor": 2
}
