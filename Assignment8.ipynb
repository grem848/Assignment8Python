{
 "cells": [
  {
   "cell_type": "markdown",
   "metadata": {},
   "source": [
    "# Exercise 2 - Good Awareness\n",
    "\n",
    "### URI: https://www.kaggle.com/spscientist/students-performance-in-exams/version/1\n",
    "\n",
    "https://github.com/Kaggle/kaggle-api to download kaggle dataset programmatically (not a good idea to do this over mybinder, as you need to send your login credentials)\n",
    "\n",
    "### Question 1:\n",
    "Download the data programatically with python. \n",
    "\n",
    "(Dont do this on mybinder! It won't work because mybinder doesnt have the api)\n",
    "\n",
    "Windows:\n",
    "1. pip install kaggle\n",
    "2. log in on kaggle\n",
    "3. click on your profile (top right) then my account\n",
    "4. scroll down to API, click Create New API Token (this downloads the kaggle.json file with your login credentials)\n",
    "5. move the kaggle.json file to the root of C:\\Users\\Windows-username\\.kaggle\\\n",
    "6. .kaggle should now look like this: C:\\Users\\Windows-username\\.kaggle\\kaggle.json\n",
    "7. run commands below\n",
    "\n",
    "Mac:\n",
    "https://github.com/Kaggle/kaggle-api DO IT YOURSELF!"
   ]
  },
  {
   "cell_type": "code",
   "execution_count": 14,
   "metadata": {},
   "outputs": [
    {
     "name": "stdout",
     "output_type": "stream",
     "text": [
      "students-performance-in-exams.zip: Skipping, found more recently modified local copy (use --force to force download)\n"
     ]
    }
   ],
   "source": [
    "!kaggle datasets download -d spscientist/students-performance-in-exams"
   ]
  },
  {
   "cell_type": "code",
   "execution_count": 22,
   "metadata": {},
   "outputs": [],
   "source": [
    "import shutil\n",
    "import zipfile\n",
    "with zipfile.ZipFile(\"students-performance-in-exams.zip\",\"r\") as zip_ref:\n",
    "    zip_ref.extractall()"
   ]
  },
  {
   "cell_type": "markdown",
   "metadata": {},
   "source": [
    "### Question 2:\n",
    "Fit the data for the different scores in math, writing and reading into a model. present it visually and explain what you see."
   ]
  },
  {
   "cell_type": "code",
   "execution_count": 23,
   "metadata": {},
   "outputs": [
    {
     "name": "stdout",
     "output_type": "stream",
     "text": [
      "high school\n",
      "math 62.13775510204081\n",
      "reading 64.70408163265306\n",
      "writing 62.44897959183673\n",
      "-----------------------------\n",
      "College\n",
      "math 67.1283185840708\n",
      "reading 69.46017699115045\n",
      "writing 68.84070796460178\n",
      "-----------------------------\n",
      "bachelor degree\n",
      "math 69.38983050847457\n",
      "reading 73.0\n",
      "writing 73.38135593220339\n"
     ]
    }
   ],
   "source": [
    "import numpy as np\n",
    "import pandas as pd\n",
    "import matplotlib.pyplot as plt\n",
    "\n",
    "data = pd.read_csv(\"StudentsPerformance.csv\")\n",
    "\n",
    "\n",
    "some_College_math = data[data['parental level of education']=='some college'][\"math score\"].values\n",
    "some_College_reading = data[data['parental level of education']=='some college'][\"reading score\"].values\n",
    "some_College_writing = data[data['parental level of education']=='some college'][\"writing score\"].values\n",
    "\n",
    "high_school_math = data[data['parental level of education']=='high school'][\"math score\"].values\n",
    "high_school_reading = data[data['parental level of education']=='high school'][\"reading score\"].values\n",
    "high_school_writing = data[data['parental level of education']=='high school'][\"writing score\"].values\n",
    "\n",
    "\n",
    "bachelor_degree_math = data[data['parental level of education']==\"bachelor's degree\"][\"math score\"].values\n",
    "bachelor_degree_reading = data[data['parental level of education']==\"bachelor's degree\"][\"reading score\"].values\n",
    "bachelor_degree_writing = data[data['parental level of education']==\"bachelor's degree\"][\"writing score\"].values\n",
    "\n",
    "\n",
    "print(\"high school\")\n",
    "print(\"math\", high_school_math.mean())\n",
    "print(\"reading\", high_school_reading.mean())\n",
    "print(\"writing\",high_school_writing.mean())\n",
    "print(\"-----------------------------\")\n",
    "print(\"College\")\n",
    "print(\"math\", some_College_math.mean())\n",
    "print(\"reading\",some_College_reading.mean())\n",
    "print(\"writing\",some_College_writing.mean())\n",
    "print(\"-----------------------------\")\n",
    "print(\"bachelor degree\")\n",
    "print(\"math\", bachelor_degree_math.mean())\n",
    "print(\"reading\",bachelor_degree_reading.mean())\n",
    "print(\"writing\",bachelor_degree_writing.mean())"
   ]
  },
  {
   "cell_type": "markdown",
   "metadata": {},
   "source": [
    "### Question 3:\n",
    "Predict the next semesters scores."
   ]
  },
  {
   "cell_type": "code",
   "execution_count": null,
   "metadata": {},
   "outputs": [],
   "source": []
  }
 ],
 "metadata": {
  "kernelspec": {
   "display_name": "Python 3",
   "language": "python",
   "name": "python3"
  },
  "language_info": {
   "codemirror_mode": {
    "name": "ipython",
    "version": 3
   },
   "file_extension": ".py",
   "mimetype": "text/x-python",
   "name": "python",
   "nbconvert_exporter": "python",
   "pygments_lexer": "ipython3",
   "version": "3.7.1"
  }
 },
 "nbformat": 4,
 "nbformat_minor": 2
}
