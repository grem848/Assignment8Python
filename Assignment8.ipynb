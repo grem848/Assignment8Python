{
 "cells": [
  {
   "cell_type": "markdown",
   "metadata": {},
   "source": [
    "# Exercise 2 - Good Awareness\n",
    "\n",
    "### URI: https://www.kaggle.com/spscientist/students-performance-in-exams/version/1\n",
    "\n",
    "https://github.com/Kaggle/kaggle-api to download kaggle dataset programmatically (not a good idea to do this over mybinder, as you need to send your login credentials)\n",
    "\n",
    "### Question 1:\n",
    "Download the data programatically with python. \n",
    "\n",
    "(Dont do this on mybinder! It won't work because mybinder doesnt have the api)\n",
    "\n",
    "1. pip install kaggle\n",
    "2. log in on kaggle\n",
    "3. click on your profile (top right) then my account\n",
    "4. scroll down to API, click Create New API Token (this downloads the kaggle.json file with your login credentials)\n",
    "5. move the kaggle.json file to the root of C:\\Users\\<Windows-username>\\.kaggle\\\n",
    "6. .kaggle should now look like this: C:\\Users\\<Windows-username>\\.kaggle\\kaggle.json\n",
    "7. run command below\n",
    "\n"
   ]
  },
  {
   "cell_type": "code",
   "execution_count": 11,
   "metadata": {},
   "outputs": [
    {
     "name": "stdout",
     "output_type": "stream",
     "text": [
      "students-performance-in-exams.zip: Skipping, found more recently modified local copy (use --force to force download)\n"
     ]
    }
   ],
   "source": [
    "!kaggle datasets download -d spscientist/students-performance-in-exams"
   ]
  },
  {
   "cell_type": "markdown",
   "metadata": {},
   "source": [
    "### Question 2:\n",
    "Fit the data for the different scores in math, writing and reading into a model. present it visually and explain what you see."
   ]
  },
  {
   "cell_type": "code",
   "execution_count": null,
   "metadata": {},
   "outputs": [],
   "source": []
  },
  {
   "cell_type": "markdown",
   "metadata": {},
   "source": [
    "### Question 3:\n",
    "Predict the next semesters scores."
   ]
  },
  {
   "cell_type": "code",
   "execution_count": null,
   "metadata": {},
   "outputs": [],
   "source": []
  }
 ],
 "metadata": {
  "kernelspec": {
   "display_name": "Python 3",
   "language": "python",
   "name": "python3"
  },
  "language_info": {
   "codemirror_mode": {
    "name": "ipython",
    "version": 3
   },
   "file_extension": ".py",
   "mimetype": "text/x-python",
   "name": "python",
   "nbconvert_exporter": "python",
   "pygments_lexer": "ipython3",
   "version": "3.7.1"
  }
 },
 "nbformat": 4,
 "nbformat_minor": 2
}
